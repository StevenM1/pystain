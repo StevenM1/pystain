{
 "cells": [
  {
   "cell_type": "code",
   "execution_count": null,
   "metadata": {
    "collapsed": false
   },
   "outputs": [],
   "source": [
    "import matplotlib as mpl\n",
    "mpl.use('Agg')\n",
    "import matplotlib.pyplot as plt\n",
    "from matplotlib.backends.backend_pdf import PdfPages\n",
    "import matplotlib.pyplot as plt\n",
    "\n",
    "from pystain import StainDataset\n",
    "import os\n",
    "import numpy as np\n",
    "\n",
    "import seaborn as sns\n",
    "sns.set_context('poster')\n",
    "sns.set_style('whitegrid')\n",
    "\n",
    "subject_ids = [13044, 13046, 13054, 13058, 13060, 13061, 13072, 13074, 13077, 15052]\n",
    "\n",
    "def cmap_hist(data, bins=None, cmap=plt.cm.hot, vmin=None, vmax=None):\n",
    "    n, bins, patches = plt.hist(data, bins=bins)\n",
    "    bin_centers = 0.5 * (bins[:-1] + bins[1:])\n",
    "    \n",
    "    if vmin is None:\n",
    "        vmin = data.min()\n",
    "    if vmax is None:\n",
    "        vmax = data.max()\n",
    "\n",
    "    # scale values to interval [0,1]\n",
    "    col = (bin_centers - vmin) / vmax\n",
    "\n",
    "    for c, p in zip(col, patches):\n",
    "        plt.setp(p, 'facecolor', cmap(c))\n",
    "\n",
    "\n",
    "for subject_id in subject_ids[:]:\n",
    "    for fwhm in [0.15, 0.3]:\n",
    "        dataset = StainDataset(subject_id, fwhm=fwhm)\n",
    "        dataset.get_vminmax((0, 99))\n",
    "\n",
    "        d = '/home/mkeuken1/data/post_mortem/visualize_stains_v1/%s/' % (subject_id)\n",
    "        if not os.path.exists(d):\n",
    "            os.makedirs(d) \n",
    "\n",
    "        fn = os.path.join(d, 'stains_%s.pdf' % fwhm)\n",
    "        pdf = PdfPages(fn)\n",
    "\n",
    "        for i, stain in enumerate(dataset.stains):\n",
    "            print 'Plotting %s' % stain\n",
    "            plt.figure()\n",
    "            data = dataset.smoothed_data.value[dataset.thresholded_mask, i]\n",
    "            data = data[~np.isnan(data)]\n",
    "            bins = np.linspace(0, dataset.vmax[i], 100)\n",
    "            cmap_hist(data, bins, plt.cm.hot, vmin=dataset.vmin[i], vmax=dataset.vmax[i])\n",
    "            plt.title(stain)\n",
    "            plt.savefig(pdf, format='pdf')\n",
    "\n",
    "            plt.close(plt.gcf())\n",
    "\n",
    "            plt.figure()\n",
    "\n",
    "            if not os.path.exists(d):\n",
    "                os.makedirs(d)\n",
    "\n",
    "            for i, orientation in enumerate(['coronal', 'axial', 'sagittal']):\n",
    "                for j, q in enumerate([.25, .5, .75]):\n",
    "                    ax = plt.subplot(3, 3, i + j*3 + 1)\n",
    "                    slice = dataset.get_proportional_slice(q, orientation)\n",
    "                    dataset.plot_slice(slice=slice, stain=stain, orientation=orientation, cmap=plt.cm.hot)\n",
    "                    ax.set_anchor('NW')\n",
    "\n",
    "                    \n",
    "            plt.gcf().set_size_inches(20, 20)\n",
    "            plt.suptitle(stain)\n",
    "            plt.savefig(pdf, format='pdf')\n",
    "            plt.close(plt.gcf())\n",
    "        \n",
    "        plt.figure()\n",
    "        print 'Plotting correlation matrix'\n",
    "        sns.heatmap(np.round(dataset.smoothed_dataframe.corr(), 2), annot=True)\n",
    "        plt.savefig(pdf, format='pdf')\n",
    "        plt.close(plt.gcf())\n",
    "\n",
    "        pdf.close()"
   ]
  },
  {
   "cell_type": "code",
   "execution_count": null,
   "metadata": {
    "collapsed": false
   },
   "outputs": [],
   "source": [
    "\n",
    "\n"
   ]
  },
  {
   "cell_type": "code",
   "execution_count": 2,
   "metadata": {
    "collapsed": false
   },
   "outputs": [
    {
     "name": "stdout",
     "output_type": "stream",
     "text": [
      "/home/mkeuken1/data/post_mortem/new_data_format/13044/images.hdf5\n",
      "/home/mkeuken1/data/post_mortem/new_data_format/13046/images.hdf5\n",
      "/home/mkeuken1/data/post_mortem/new_data_format/13054/images.hdf5\n",
      "/home/mkeuken1/data/post_mortem/new_data_format/13058/images.hdf5\n",
      "/home/mkeuken1/data/post_mortem/new_data_format/13060/images.hdf5\n",
      "/home/mkeuken1/data/post_mortem/new_data_format/13061/images.hdf5\n",
      "/home/mkeuken1/data/post_mortem/new_data_format/13072/images.hdf5\n",
      "/home/mkeuken1/data/post_mortem/new_data_format/13074/images.hdf5\n",
      "/home/mkeuken1/data/post_mortem/new_data_format/13077/images.hdf5\n",
      "/home/mkeuken1/data/post_mortem/new_data_format/15052/images.hdf5\n"
     ]
    }
   ],
   "source": [
    "from scipy import stats\n",
    "import pandas\n",
    "from pystain import StainDataset\n",
    "\n",
    "subject_ids_pd = [13044, 13046, 13054, 13058, 13060, 13061, 13072, 13074, 13077, 15052]\n",
    "subject_ids_hc = [13095, 14037, 14051, 14069, 15033, 15035, 15055]\n",
    "\n",
    "subject_id = 13044\n",
    "for subject_id in subject_ids_pd[:]:\n",
    "\n",
    "    ds = StainDataset(subject_id, fwhm=0.3)\n",
    "    \n",
    "   # tmp = df.pivot_table(index=['pc1_3', 'pc2_3', 'slice_3'], values=ds.stains, aggfunc='mean').copy()\n",
    "   # tmp['subject_id'] = subject_id\n",
    "    \n",
    "   # results.append(tmp.copy())\n",
    "\n",
    "#df = pandas.concat(results).reset_index().set_index(['subject_id', 'slice_3', 'pc1_3', 'pc2_3'])\n",
    "#df = pandas.melt(df.reset_index(), id_vars=['subject_id', 'slice_3', 'pc1_3', 'pc2_3'], var_name='stain')"
   ]
  },
  {
   "cell_type": "code",
   "execution_count": 23,
   "metadata": {
    "collapsed": false
   },
   "outputs": [
    {
     "name": "stdout",
     "output_type": "stream",
     "text": [
      "<pystain.base.StainDataset object at 0x7f09238ce210>\n"
     ]
    },
    {
     "ename": "AttributeError",
     "evalue": "'StainDataset' object has no attribute 'head'",
     "output_type": "error",
     "traceback": [
      "\u001b[0;31m---------------------------------------------------------------------------\u001b[0m",
      "\u001b[0;31mAttributeError\u001b[0m                            Traceback (most recent call last)",
      "\u001b[0;32m<ipython-input-23-63cdd65a0e40>\u001b[0m in \u001b[0;36m<module>\u001b[0;34m()\u001b[0m\n\u001b[1;32m      1\u001b[0m \u001b[0;32mprint\u001b[0m\u001b[0;34m(\u001b[0m\u001b[0mds\u001b[0m\u001b[0;34m)\u001b[0m\u001b[0;34m\u001b[0m\u001b[0m\n\u001b[1;32m      2\u001b[0m \u001b[0mds\u001b[0m\u001b[0;34m.\u001b[0m\u001b[0mdata_pandas\u001b[0m\u001b[0;34m\u001b[0m\u001b[0m\n\u001b[0;32m----> 3\u001b[0;31m \u001b[0mds\u001b[0m\u001b[0;34m.\u001b[0m\u001b[0mhead\u001b[0m\u001b[0;34m(\u001b[0m\u001b[0;34m)\u001b[0m\u001b[0;34m\u001b[0m\u001b[0m\n\u001b[0m\u001b[1;32m      4\u001b[0m \u001b[0;31m#ds(index=ds.stains,values=subject_id, aggfunct='mean')\u001b[0m\u001b[0;34m\u001b[0m\u001b[0;34m\u001b[0m\u001b[0m\n",
      "\u001b[0;31mAttributeError\u001b[0m: 'StainDataset' object has no attribute 'head'"
     ]
    }
   ],
   "source": [
    "print(ds)\n",
    "ds.data_pandas\n",
    "ds.head()\n",
    "#ds(index=ds.stains,values=subject_id, aggfunct='mean')"
   ]
  },
  {
   "cell_type": "code",
   "execution_count": null,
   "metadata": {
    "collapsed": true
   },
   "outputs": [],
   "source": []
  }
 ],
 "metadata": {
  "kernelspec": {
   "display_name": "Python 2",
   "language": "python",
   "name": "python2"
  },
  "language_info": {
   "codemirror_mode": {
    "name": "ipython",
    "version": 2
   },
   "file_extension": ".py",
   "mimetype": "text/x-python",
   "name": "python",
   "nbconvert_exporter": "python",
   "pygments_lexer": "ipython2",
   "version": "2.7.13"
  }
 },
 "nbformat": 4,
 "nbformat_minor": 2
}
