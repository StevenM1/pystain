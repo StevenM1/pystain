{
 "cells": [
  {
   "cell_type": "code",
   "execution_count": 171,
   "metadata": {
    "collapsed": false
   },
   "outputs": [],
   "source": [
    "import re, glob\n",
    "import pandas\n",
    "import pystain"
   ]
  },
  {
   "cell_type": "code",
   "execution_count": 172,
   "metadata": {
    "collapsed": true
   },
   "outputs": [],
   "source": [
    "#subject_ids = [13044, 13046, 13054, 13058, 13060, 13061, 13072, 13074, 13077, 15052]\n",
    "subject_ids = [13072]"
   ]
  },
  {
   "cell_type": "code",
   "execution_count": 173,
   "metadata": {
    "collapsed": false
   },
   "outputs": [],
   "source": [
    "from matplotlib.backends.backend_pdf import PdfPages\n",
    "import skimage\n",
    "from skimage import io\n",
    "import nibabel as nb"
   ]
  },
  {
   "cell_type": "code",
   "execution_count": 175,
   "metadata": {
    "collapsed": false
   },
   "outputs": [
    {
     "name": "stdout",
     "output_type": "stream",
     "text": [
      "13072\n",
      "MRI Shape: [1616, 1712, 56]\n",
      "Stain shape: [30, 1616, 1712, 12]:\n",
      "Blockface shape: [59, 1616, 1712, 3]:\n",
      "/home/mkeuken1/data/post_mortem/new_data_format/13072/images.hdf5\n"
     ]
    }
   ],
   "source": [
    "results = []\n",
    "\n",
    "for subject_id in subject_ids:\n",
    "    print subject_id\n",
    "    \n",
    "    year = '20' + str(subject_id)[:2]\n",
    "    n = str(subject_id)[2:]\n",
    "    \n",
    "    im = skimage.io.imread('/home/public/HISTO_TO_MRI_1/Blockface_stacks/{subject_id}/{subject_id}_rt.tif'.format(**locals()))\n",
    "    mri_slices = pandas.read_csv('/home/public/HISTO_TO_MRI_1/Blockface_stacks/True_slice_distance/{n}_{year}_3removed.txt'.format(**locals()), header=None, names=['slice'])\n",
    "    print 'MRI Shape: %s' % list(mri.shape)\n",
    "    print 'Stain shape: %s:' %  list(ds.data.shape)\n",
    "    print 'Blockface shape: %s:' % list(im.shape)\n",
    "    ds = pystain.StainDataset(subject_id)\n",
    "    \n",
    "    if subject_id == None:\n",
    "        r = {'subject_id':subject_id, 'bf_tif_x':im.shape[1], 'bf_tif_y':im.shape[0], 'bf_tif_slices':im.shape[2],\n",
    "             'staining_x':ds.data.shape[2], 'staining_y':ds.data.shape[1], 'staining_slices':ds.data.shape[0],             \n",
    "         'n_slices_txt_file':mri_slices.shape[0]}\n",
    "    else:\n",
    "        \n",
    "    \n",
    "        mri = nb.load('/home/public/HISTO_TO_MRI_1/MRI_DATA/MRI/PD/FLASH/{subject_id}/{subject_id}_pd_flash_006_ts.nii'.format(**locals())).get_data()\n",
    "\n",
    "        r = {'subject_id':subject_id, 'bf_tif_x':im.shape[2], 'bf_tif_y':im.shape[1], 'bf_tif_slices':im.shape[0],\n",
    "             'mri_x':mri.shape[0], 'mri_y':mri.shape[1], 'mri_n_slices':mri.shape[2],\n",
    "             'staining_x':ds.data.shape[2], 'staining_y':ds.data.shape[1], 'staining_slices':ds.data.shape[0],\n",
    "             'n_slices_txt_file':mri_slices.shape[0]}\n",
    "    \n",
    "    results.append(r)"
   ]
  },
  {
   "cell_type": "code",
   "execution_count": 176,
   "metadata": {
    "collapsed": true
   },
   "outputs": [],
   "source": [
    "from scipy import ndimage\n",
    "import numpy as np\n",
    "import matplotlib.pyplot as plt\n",
    "import scipy as sp"
   ]
  },
  {
   "cell_type": "code",
   "execution_count": 180,
   "metadata": {
    "collapsed": false
   },
   "outputs": [
    {
     "name": "stdout",
     "output_type": "stream",
     "text": [
      "T1 13072\n",
      "/home/mkeuken1/data/post_mortem/new_data_format/13072/images.hdf5\n",
      "MRI Shape: [1616, 1712, 56]\n",
      "\n",
      "T2star 13072\n",
      "/home/mkeuken1/data/post_mortem/new_data_format/13072/images.hdf5\n"
     ]
    },
    {
     "ename": "KeyboardInterrupt",
     "evalue": "",
     "output_type": "error",
     "traceback": [
      "\u001b[0;31m---------------------------------------------------------------------------\u001b[0m",
      "\u001b[0;31mKeyboardInterrupt\u001b[0m                         Traceback (most recent call last)",
      "\u001b[0;32m<ipython-input-180-51ec0e4cb4f7>\u001b[0m in \u001b[0;36m<module>\u001b[0;34m()\u001b[0m\n\u001b[1;32m     21\u001b[0m             \u001b[0;32mprint\u001b[0m \u001b[0;34m'MRI Shape: %s'\u001b[0m \u001b[0;34m%\u001b[0m \u001b[0mlist\u001b[0m\u001b[0;34m(\u001b[0m\u001b[0mmri\u001b[0m\u001b[0;34m.\u001b[0m\u001b[0mshape\u001b[0m\u001b[0;34m)\u001b[0m\u001b[0;34m\u001b[0m\u001b[0m\n\u001b[1;32m     22\u001b[0m         \u001b[0;32melif\u001b[0m \u001b[0mmodality\u001b[0m \u001b[0;34m==\u001b[0m \u001b[0;34m'T2star'\u001b[0m\u001b[0;34m:\u001b[0m\u001b[0;34m\u001b[0m\u001b[0m\n\u001b[0;32m---> 23\u001b[0;31m             \u001b[0mmri\u001b[0m \u001b[0;34m=\u001b[0m \u001b[0mnb\u001b[0m\u001b[0;34m.\u001b[0m\u001b[0mload\u001b[0m\u001b[0;34m(\u001b[0m\u001b[0;34m'/home/public/HISTO_TO_MRI_1/MRI_DATA/MRI/PD/T2s_map/{subject_id}/{subject_id}_T2map_2_flash_006_ts.nii.gz'\u001b[0m\u001b[0;34m.\u001b[0m\u001b[0mformat\u001b[0m\u001b[0;34m(\u001b[0m\u001b[0;34m**\u001b[0m\u001b[0mlocals\u001b[0m\u001b[0;34m(\u001b[0m\u001b[0;34m)\u001b[0m\u001b[0;34m)\u001b[0m\u001b[0;34m)\u001b[0m\u001b[0;34m.\u001b[0m\u001b[0mget_data\u001b[0m\u001b[0;34m(\u001b[0m\u001b[0;34m)\u001b[0m\u001b[0;34m\u001b[0m\u001b[0m\n\u001b[0m\u001b[1;32m     24\u001b[0m \u001b[0;34m\u001b[0m\u001b[0m\n\u001b[1;32m     25\u001b[0m         \u001b[0;32melif\u001b[0m \u001b[0mmodality\u001b[0m \u001b[0;34m==\u001b[0m \u001b[0;34m'QSM'\u001b[0m\u001b[0;34m:\u001b[0m\u001b[0;34m\u001b[0m\u001b[0m\n",
      "\u001b[0;32m/opt/anaconda/anaconda2/lib/python2.7/site-packages/nibabel/spatialimages.pyc\u001b[0m in \u001b[0;36mget_data\u001b[0;34m(self, caching)\u001b[0m\n\u001b[1;32m    570\u001b[0m         \u001b[0;32mif\u001b[0m \u001b[0mself\u001b[0m\u001b[0;34m.\u001b[0m\u001b[0m_data_cache\u001b[0m \u001b[0;32mis\u001b[0m \u001b[0;32mnot\u001b[0m \u001b[0mNone\u001b[0m\u001b[0;34m:\u001b[0m\u001b[0;34m\u001b[0m\u001b[0m\n\u001b[1;32m    571\u001b[0m             \u001b[0;32mreturn\u001b[0m \u001b[0mself\u001b[0m\u001b[0;34m.\u001b[0m\u001b[0m_data_cache\u001b[0m\u001b[0;34m\u001b[0m\u001b[0m\n\u001b[0;32m--> 572\u001b[0;31m         \u001b[0mdata\u001b[0m \u001b[0;34m=\u001b[0m \u001b[0mnp\u001b[0m\u001b[0;34m.\u001b[0m\u001b[0masanyarray\u001b[0m\u001b[0;34m(\u001b[0m\u001b[0mself\u001b[0m\u001b[0;34m.\u001b[0m\u001b[0m_dataobj\u001b[0m\u001b[0;34m)\u001b[0m\u001b[0;34m\u001b[0m\u001b[0m\n\u001b[0m\u001b[1;32m    573\u001b[0m         \u001b[0;32mif\u001b[0m \u001b[0mcaching\u001b[0m \u001b[0;34m==\u001b[0m \u001b[0;34m'fill'\u001b[0m\u001b[0;34m:\u001b[0m\u001b[0;34m\u001b[0m\u001b[0m\n\u001b[1;32m    574\u001b[0m             \u001b[0mself\u001b[0m\u001b[0;34m.\u001b[0m\u001b[0m_data_cache\u001b[0m \u001b[0;34m=\u001b[0m \u001b[0mdata\u001b[0m\u001b[0;34m\u001b[0m\u001b[0m\n",
      "\u001b[0;32m/opt/anaconda/anaconda2/lib/python2.7/site-packages/numpy/core/numeric.pyc\u001b[0m in \u001b[0;36masanyarray\u001b[0;34m(a, dtype, order)\u001b[0m\n\u001b[1;32m    531\u001b[0m \u001b[0;34m\u001b[0m\u001b[0m\n\u001b[1;32m    532\u001b[0m     \"\"\"\n\u001b[0;32m--> 533\u001b[0;31m     \u001b[0;32mreturn\u001b[0m \u001b[0marray\u001b[0m\u001b[0;34m(\u001b[0m\u001b[0ma\u001b[0m\u001b[0;34m,\u001b[0m \u001b[0mdtype\u001b[0m\u001b[0;34m,\u001b[0m \u001b[0mcopy\u001b[0m\u001b[0;34m=\u001b[0m\u001b[0mFalse\u001b[0m\u001b[0;34m,\u001b[0m \u001b[0morder\u001b[0m\u001b[0;34m=\u001b[0m\u001b[0morder\u001b[0m\u001b[0;34m,\u001b[0m \u001b[0msubok\u001b[0m\u001b[0;34m=\u001b[0m\u001b[0mTrue\u001b[0m\u001b[0;34m)\u001b[0m\u001b[0;34m\u001b[0m\u001b[0m\n\u001b[0m\u001b[1;32m    534\u001b[0m \u001b[0;34m\u001b[0m\u001b[0m\n\u001b[1;32m    535\u001b[0m \u001b[0;32mdef\u001b[0m \u001b[0mascontiguousarray\u001b[0m\u001b[0;34m(\u001b[0m\u001b[0ma\u001b[0m\u001b[0;34m,\u001b[0m \u001b[0mdtype\u001b[0m\u001b[0;34m=\u001b[0m\u001b[0mNone\u001b[0m\u001b[0;34m)\u001b[0m\u001b[0;34m:\u001b[0m\u001b[0;34m\u001b[0m\u001b[0m\n",
      "\u001b[0;32m/opt/anaconda/anaconda2/lib/python2.7/site-packages/nibabel/arrayproxy.pyc\u001b[0m in \u001b[0;36m__array__\u001b[0;34m(self)\u001b[0m\n\u001b[1;32m    143\u001b[0m     \u001b[0;32mdef\u001b[0m \u001b[0m__array__\u001b[0m\u001b[0;34m(\u001b[0m\u001b[0mself\u001b[0m\u001b[0;34m)\u001b[0m\u001b[0;34m:\u001b[0m\u001b[0;34m\u001b[0m\u001b[0m\n\u001b[1;32m    144\u001b[0m         \u001b[0;31m# Read array and scale\u001b[0m\u001b[0;34m\u001b[0m\u001b[0;34m\u001b[0m\u001b[0m\n\u001b[0;32m--> 145\u001b[0;31m         \u001b[0mraw_data\u001b[0m \u001b[0;34m=\u001b[0m \u001b[0mself\u001b[0m\u001b[0;34m.\u001b[0m\u001b[0mget_unscaled\u001b[0m\u001b[0;34m(\u001b[0m\u001b[0;34m)\u001b[0m\u001b[0;34m\u001b[0m\u001b[0m\n\u001b[0m\u001b[1;32m    146\u001b[0m         \u001b[0;32mreturn\u001b[0m \u001b[0mapply_read_scaling\u001b[0m\u001b[0;34m(\u001b[0m\u001b[0mraw_data\u001b[0m\u001b[0;34m,\u001b[0m \u001b[0mself\u001b[0m\u001b[0;34m.\u001b[0m\u001b[0m_slope\u001b[0m\u001b[0;34m,\u001b[0m \u001b[0mself\u001b[0m\u001b[0;34m.\u001b[0m\u001b[0m_inter\u001b[0m\u001b[0;34m)\u001b[0m\u001b[0;34m\u001b[0m\u001b[0m\n\u001b[1;32m    147\u001b[0m \u001b[0;34m\u001b[0m\u001b[0m\n",
      "\u001b[0;32m/opt/anaconda/anaconda2/lib/python2.7/site-packages/nibabel/arrayproxy.pyc\u001b[0m in \u001b[0;36mget_unscaled\u001b[0;34m(self)\u001b[0m\n\u001b[1;32m    138\u001b[0m                                        \u001b[0moffset\u001b[0m\u001b[0;34m=\u001b[0m\u001b[0mself\u001b[0m\u001b[0;34m.\u001b[0m\u001b[0m_offset\u001b[0m\u001b[0;34m,\u001b[0m\u001b[0;34m\u001b[0m\u001b[0m\n\u001b[1;32m    139\u001b[0m                                        \u001b[0morder\u001b[0m\u001b[0;34m=\u001b[0m\u001b[0mself\u001b[0m\u001b[0;34m.\u001b[0m\u001b[0morder\u001b[0m\u001b[0;34m,\u001b[0m\u001b[0;34m\u001b[0m\u001b[0m\n\u001b[0;32m--> 140\u001b[0;31m                                        mmap=self._mmap)\n\u001b[0m\u001b[1;32m    141\u001b[0m         \u001b[0;32mreturn\u001b[0m \u001b[0mraw_data\u001b[0m\u001b[0;34m\u001b[0m\u001b[0m\n\u001b[1;32m    142\u001b[0m \u001b[0;34m\u001b[0m\u001b[0m\n",
      "\u001b[0;32m/opt/anaconda/anaconda2/lib/python2.7/site-packages/nibabel/volumeutils.pyc\u001b[0m in \u001b[0;36marray_from_file\u001b[0;34m(shape, in_dtype, infile, offset, order, mmap)\u001b[0m\n\u001b[1;32m    522\u001b[0m     \u001b[0;32mif\u001b[0m \u001b[0mhasattr\u001b[0m\u001b[0;34m(\u001b[0m\u001b[0minfile\u001b[0m\u001b[0;34m,\u001b[0m \u001b[0;34m'readinto'\u001b[0m\u001b[0;34m)\u001b[0m\u001b[0;34m:\u001b[0m\u001b[0;34m\u001b[0m\u001b[0m\n\u001b[1;32m    523\u001b[0m         \u001b[0mdata_bytes\u001b[0m \u001b[0;34m=\u001b[0m \u001b[0mbytearray\u001b[0m\u001b[0;34m(\u001b[0m\u001b[0mn_bytes\u001b[0m\u001b[0;34m)\u001b[0m\u001b[0;34m\u001b[0m\u001b[0m\n\u001b[0;32m--> 524\u001b[0;31m         \u001b[0mn_read\u001b[0m \u001b[0;34m=\u001b[0m \u001b[0minfile\u001b[0m\u001b[0;34m.\u001b[0m\u001b[0mreadinto\u001b[0m\u001b[0;34m(\u001b[0m\u001b[0mdata_bytes\u001b[0m\u001b[0;34m)\u001b[0m\u001b[0;34m\u001b[0m\u001b[0m\n\u001b[0m\u001b[1;32m    525\u001b[0m         \u001b[0mneeds_copy\u001b[0m \u001b[0;34m=\u001b[0m \u001b[0mFalse\u001b[0m\u001b[0;34m\u001b[0m\u001b[0m\n\u001b[1;32m    526\u001b[0m     \u001b[0;32melse\u001b[0m\u001b[0;34m:\u001b[0m\u001b[0;34m\u001b[0m\u001b[0m\n",
      "\u001b[0;32m/opt/anaconda/anaconda2/lib/python2.7/gzip.pyc\u001b[0m in \u001b[0;36mread\u001b[0;34m(self, size)\u001b[0m\n\u001b[1;32m    266\u001b[0m             \u001b[0;32mtry\u001b[0m\u001b[0;34m:\u001b[0m\u001b[0;34m\u001b[0m\u001b[0m\n\u001b[1;32m    267\u001b[0m                 \u001b[0;32mwhile\u001b[0m \u001b[0msize\u001b[0m \u001b[0;34m>\u001b[0m \u001b[0mself\u001b[0m\u001b[0;34m.\u001b[0m\u001b[0mextrasize\u001b[0m\u001b[0;34m:\u001b[0m\u001b[0;34m\u001b[0m\u001b[0m\n\u001b[0;32m--> 268\u001b[0;31m                     \u001b[0mself\u001b[0m\u001b[0;34m.\u001b[0m\u001b[0m_read\u001b[0m\u001b[0;34m(\u001b[0m\u001b[0mreadsize\u001b[0m\u001b[0;34m)\u001b[0m\u001b[0;34m\u001b[0m\u001b[0m\n\u001b[0m\u001b[1;32m    269\u001b[0m                     \u001b[0mreadsize\u001b[0m \u001b[0;34m=\u001b[0m \u001b[0mmin\u001b[0m\u001b[0;34m(\u001b[0m\u001b[0mself\u001b[0m\u001b[0;34m.\u001b[0m\u001b[0mmax_read_chunk\u001b[0m\u001b[0;34m,\u001b[0m \u001b[0mreadsize\u001b[0m \u001b[0;34m*\u001b[0m \u001b[0;36m2\u001b[0m\u001b[0;34m)\u001b[0m\u001b[0;34m\u001b[0m\u001b[0m\n\u001b[1;32m    270\u001b[0m             \u001b[0;32mexcept\u001b[0m \u001b[0mEOFError\u001b[0m\u001b[0;34m:\u001b[0m\u001b[0;34m\u001b[0m\u001b[0m\n",
      "\u001b[0;32m/opt/anaconda/anaconda2/lib/python2.7/gzip.pyc\u001b[0m in \u001b[0;36m_read\u001b[0;34m(self, size)\u001b[0m\n\u001b[1;32m    318\u001b[0m \u001b[0;34m\u001b[0m\u001b[0m\n\u001b[1;32m    319\u001b[0m         \u001b[0muncompress\u001b[0m \u001b[0;34m=\u001b[0m \u001b[0mself\u001b[0m\u001b[0;34m.\u001b[0m\u001b[0mdecompress\u001b[0m\u001b[0;34m.\u001b[0m\u001b[0mdecompress\u001b[0m\u001b[0;34m(\u001b[0m\u001b[0mbuf\u001b[0m\u001b[0;34m)\u001b[0m\u001b[0;34m\u001b[0m\u001b[0m\n\u001b[0;32m--> 320\u001b[0;31m         \u001b[0mself\u001b[0m\u001b[0;34m.\u001b[0m\u001b[0m_add_read_data\u001b[0m\u001b[0;34m(\u001b[0m \u001b[0muncompress\u001b[0m \u001b[0;34m)\u001b[0m\u001b[0;34m\u001b[0m\u001b[0m\n\u001b[0m\u001b[1;32m    321\u001b[0m \u001b[0;34m\u001b[0m\u001b[0m\n\u001b[1;32m    322\u001b[0m         \u001b[0;32mif\u001b[0m \u001b[0mself\u001b[0m\u001b[0;34m.\u001b[0m\u001b[0mdecompress\u001b[0m\u001b[0;34m.\u001b[0m\u001b[0munused_data\u001b[0m \u001b[0;34m!=\u001b[0m \u001b[0;34m\"\"\u001b[0m\u001b[0;34m:\u001b[0m\u001b[0;34m\u001b[0m\u001b[0m\n",
      "\u001b[0;32m/opt/anaconda/anaconda2/lib/python2.7/gzip.pyc\u001b[0m in \u001b[0;36m_add_read_data\u001b[0;34m(self, data)\u001b[0m\n\u001b[1;32m    336\u001b[0m         \u001b[0mself\u001b[0m\u001b[0;34m.\u001b[0m\u001b[0mcrc\u001b[0m \u001b[0;34m=\u001b[0m \u001b[0mzlib\u001b[0m\u001b[0;34m.\u001b[0m\u001b[0mcrc32\u001b[0m\u001b[0;34m(\u001b[0m\u001b[0mdata\u001b[0m\u001b[0;34m,\u001b[0m \u001b[0mself\u001b[0m\u001b[0;34m.\u001b[0m\u001b[0mcrc\u001b[0m\u001b[0;34m)\u001b[0m \u001b[0;34m&\u001b[0m \u001b[0;36m0xffffffffL\u001b[0m\u001b[0;34m\u001b[0m\u001b[0m\n\u001b[1;32m    337\u001b[0m         \u001b[0moffset\u001b[0m \u001b[0;34m=\u001b[0m \u001b[0mself\u001b[0m\u001b[0;34m.\u001b[0m\u001b[0moffset\u001b[0m \u001b[0;34m-\u001b[0m \u001b[0mself\u001b[0m\u001b[0;34m.\u001b[0m\u001b[0mextrastart\u001b[0m\u001b[0;34m\u001b[0m\u001b[0m\n\u001b[0;32m--> 338\u001b[0;31m         \u001b[0mself\u001b[0m\u001b[0;34m.\u001b[0m\u001b[0mextrabuf\u001b[0m \u001b[0;34m=\u001b[0m \u001b[0mself\u001b[0m\u001b[0;34m.\u001b[0m\u001b[0mextrabuf\u001b[0m\u001b[0;34m[\u001b[0m\u001b[0moffset\u001b[0m\u001b[0;34m:\u001b[0m\u001b[0;34m]\u001b[0m \u001b[0;34m+\u001b[0m \u001b[0mdata\u001b[0m\u001b[0;34m\u001b[0m\u001b[0m\n\u001b[0m\u001b[1;32m    339\u001b[0m         \u001b[0mself\u001b[0m\u001b[0;34m.\u001b[0m\u001b[0mextrasize\u001b[0m \u001b[0;34m=\u001b[0m \u001b[0mself\u001b[0m\u001b[0;34m.\u001b[0m\u001b[0mextrasize\u001b[0m \u001b[0;34m+\u001b[0m \u001b[0mlen\u001b[0m\u001b[0;34m(\u001b[0m\u001b[0mdata\u001b[0m\u001b[0;34m)\u001b[0m\u001b[0;34m\u001b[0m\u001b[0m\n\u001b[1;32m    340\u001b[0m         \u001b[0mself\u001b[0m\u001b[0;34m.\u001b[0m\u001b[0mextrastart\u001b[0m \u001b[0;34m=\u001b[0m \u001b[0mself\u001b[0m\u001b[0;34m.\u001b[0m\u001b[0moffset\u001b[0m\u001b[0;34m\u001b[0m\u001b[0m\n",
      "\u001b[0;31mKeyboardInterrupt\u001b[0m: "
     ]
    }
   ],
   "source": [
    "for modality in ['T1', 'T2star', 'QSM'][0:]:\n",
    "    for subject_id in subject_ids:\n",
    "\n",
    "        print modality, subject_id\n",
    "\n",
    "        pdf = PdfPages('/home/mkeuken1/data/post_mortem/visualize_stains_v1/{modality}_stain_reg_{subject_id}_v2.pdf'.format(**locals()))\n",
    "\n",
    "        year = '20' + str(subject_id)[:2]\n",
    "        n = str(subject_id)[2:]\n",
    "        \n",
    "        mri_slices = pandas.read_csv('/home/public/HISTO_TO_MRI_1/Blockface_stacks/True_slice_distance/{n}_{year}_3removed.txt'.format(**locals()), header=None, names=['slice'])\n",
    "        mri_slices['slice'] = mri_slices.slice.apply(lambda e: e / 50 * 50)\n",
    "        mri_slices = mri_slices.set_index('slice')\n",
    "       \n",
    "        mri_slices['n'] = np.arange(mri_slices.shape[0])\n",
    "        print mri_slices\n",
    "        ds = pystain.StainDataset(subject_id)\n",
    "      \n",
    "        if modality == 'T1':\n",
    "            mri = nb.load('/home/public/HISTO_TO_MRI_1/MRI_DATA/MRI/PD/T1_map/{subject_id}/{subject_id}_T1_2_flash_006_ts.nii.gz'.format(**locals())).get_data()\n",
    "            #print 'MRI Shape: %s' % list(mri.shape)\n",
    "        elif modality == 'T2star':\n",
    "            mri = nb.load('/home/public/HISTO_TO_MRI_1/MRI_DATA/MRI/PD/T2s_map/{subject_id}/{subject_id}_T2map_2_flash_006_ts.nii.gz'.format(**locals())).get_data()\n",
    "\n",
    "        elif modality == 'QSM':\n",
    "            mri = nb.load('/home/public/HISTO_TO_MRI_1/MRI_DATA/MRI/PD/QSM/{subject_id}/{subject_id}_qsm_2_flash_ts.nii.gz'.format(**locals())).get_data()            \n",
    "\n",
    "        mri = np.swapaxes(mri, 0, 1)\n",
    "        im = skimage.io.imread('/home/public/HISTO_TO_MRI_1/Blockface_stacks/{subject_id}/{subject_id}_rt.tif'.format(**locals()))\n",
    "\n",
    "        if mri.shape[2] != im.shape[0]:\n",
    "            im = im[3:, ...]\n",
    "\n",
    "        assert(mri.shape[2] == im.shape[0])\n",
    "\n",
    "        if subject_id in [13044]:\n",
    "            mri = np.rot90(mri, 3)\n",
    "\n",
    "        if subject_id in [13046]:\n",
    "            mri = np.rot90(mri, 1)\n",
    "        if subject_id in [13054]:\n",
    "            mri = np.rot90(mri, 3)\n",
    "        if subject_id in [13058]:\n",
    "            mri = np.rot90(mri, 1)\n",
    "        if subject_id in [13060]:\n",
    "            mri = np.rot90(mri, 1)\n",
    "        if subject_id in [13061]:\n",
    "            mri = np.rot90(mri, 3)\n",
    "\n",
    "        if subject_id in [13074]:\n",
    "            mri = np.rot90(mri, 3)\n",
    "      \n",
    "\n",
    "\n",
    "        try:\n",
    "            assert(mri.shape[-1] == mri_slices.shape[0])\n",
    "\n",
    "            print 'MRI Shape: %s' % list(mri.shape)\n",
    "            print 'Stain shape: %s:' %  list(ds.data.shape)\n",
    "            print 'Blockface shape: %s:' % list(im.shape)\n",
    "\n",
    "            mri_in_stain_space = np.zeros((len(ds.slices), ds.data.shape[1], ds.data.shape[2]))\n",
    "            blockface_image = np.zeros((len(ds.slices), ds.data.shape[1], ds.data.shape[2], 3))\n",
    "\n",
    "            for slice in ds.slices[:]:\n",
    "                print slice\n",
    "\n",
    "                if slice in mri_slices.index:\n",
    "\n",
    "                    mri_slice_idx = mri_slices.ix[slice].n\n",
    "                    stain_slice_idx = ds._get_index_slice(slice)\n",
    "\n",
    "                    plt.subplot(141)\n",
    "                    plt.imshow(sp.ndimage.gaussian_filter(ds.data[stain_slice_idx, ..., ds._get_index_stain('SMI32')], 7.5), cmap=plt.cm.inferno)\n",
    "                    plt.contour(ds.thresholded_mask[stain_slice_idx, ...] == False, levels=[.5], colors=['white'])\n",
    "\n",
    "                    plt.xticks(np.arange(0, plt.xticks()[0][-1], 250))\n",
    "                    plt.yticks(np.arange(0, plt.yticks()[0][-1], 250))\n",
    "                    plt.title('SMI32')\n",
    "\n",
    "                    plt.subplot(142)\n",
    "                    plt.imshow(sp.ndimage.gaussian_filter(ds.data[stain_slice_idx, ..., ds._get_index_stain('PARV')], 7.5), cmap=plt.cm.inferno)\n",
    "                    plt.contour(ds.thresholded_mask[stain_slice_idx, ...] == False, levels=[.5], colors=['white'])\n",
    "\n",
    "                    plt.xticks(np.arange(0, plt.xticks()[0][-1], 250))\n",
    "                    plt.yticks(np.arange(0, plt.yticks()[0][-1], 250))    \n",
    "                    plt.title('PARV')    \n",
    "\n",
    "                    plt.subplot(143)\n",
    "\n",
    "                    if modality == 'T2star':\n",
    "                        plt.imshow(mri[:, :, mri_slice_idx], cmap=plt.cm.inferno, vmin=0, vmax=65)\n",
    "                    else:\n",
    "                        plt.imshow(mri[:, :, mri_slice_idx], cmap=plt.cm.inferno)\n",
    "                    # plt.axis('off')\n",
    "                    plt.contour(ds.thresholded_mask[stain_slice_idx, ...] == False, levels=[.5], colors=['white'])\n",
    "                    plt.xticks(np.arange(0, plt.xticks()[0][-1], 250))\n",
    "                    plt.yticks(np.arange(0, plt.yticks()[0][-1], 250))\n",
    "                    plt.title(modality)    \n",
    "\n",
    "\n",
    "                    plt.subplot(144)\n",
    "                    plt.imshow(im[mri_slice_idx, ...])\n",
    "                    # plt.axis('off')\n",
    "                    plt.contour(ds.thresholded_mask[stain_slice_idx, ...] == False, levels=[.5], colors=['white'])\n",
    "                    plt.xticks(np.arange(0, plt.xticks()[0][-1], 250))\n",
    "                    plt.yticks(np.arange(0, plt.yticks()[0][-1], 250))\n",
    "                    plt.title('Blockface image')                \n",
    "\n",
    "                    plt.gcf().set_size_inches(40, 20)\n",
    "                    plt.suptitle('Slice %d' % slice)\n",
    "                    plt.savefig(pdf, format='pdf')\n",
    "                    plt.close(plt.gcf())\n",
    "\n",
    "                    mri_in_stain_space[stain_slice_idx, ...] = mri[:, :, mri_slice_idx]\n",
    "                    blockface_image[stain_slice_idx, ...] = im[mri_slice_idx, ...]\n",
    "\n",
    "            if '{modality}_in_stain_space'.format(**locals()) in ds.h5file.keys():\n",
    "                del ds.h5file['{modality}_in_stain_space'.format(**locals())]\n",
    "\n",
    "            ds.h5file['{modality}_in_stain_space'.format(**locals())] = mri_in_stain_space\n",
    "            ds.h5file['blockface_image'] = blockface_image\n",
    "            ds.h5file.flush()\n",
    "\n",
    "\n",
    "        except Exception as e:\n",
    "            print e\n",
    "\n",
    "        pdf.close()"
   ]
  },
  {
   "cell_type": "code",
   "execution_count": 35,
   "metadata": {
    "collapsed": true
   },
   "outputs": [],
   "source": []
  },
  {
   "cell_type": "code",
   "execution_count": null,
   "metadata": {
    "collapsed": false
   },
   "outputs": [],
   "source": []
  },
  {
   "cell_type": "code",
   "execution_count": null,
   "metadata": {
    "collapsed": true
   },
   "outputs": [],
   "source": []
  }
 ],
 "metadata": {
  "kernelspec": {
   "display_name": "Python 2",
   "language": "python",
   "name": "python2"
  },
  "language_info": {
   "codemirror_mode": {
    "name": "ipython",
    "version": 2
   },
   "file_extension": ".py",
   "mimetype": "text/x-python",
   "name": "python",
   "nbconvert_exporter": "python",
   "pygments_lexer": "ipython2",
   "version": "2.7.13"
  }
 },
 "nbformat": 4,
 "nbformat_minor": 2
}
