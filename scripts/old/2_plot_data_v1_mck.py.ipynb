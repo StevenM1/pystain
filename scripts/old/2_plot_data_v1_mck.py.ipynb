{
 "cells": [
  {
   "cell_type": "code",
   "execution_count": null,
   "metadata": {
    "collapsed": false
   },
   "outputs": [],
   "source": [
    "import matplotlib as mpl\n",
    "mpl.use('Agg')\n",
    "import matplotlib.pyplot as plt\n",
    "from matplotlib.backends.backend_pdf import PdfPages\n",
    "import matplotlib.pyplot as plt\n",
    "\n",
    "from pystain import StainDataset\n",
    "import os\n",
    "import numpy as np\n",
    "\n",
    "import seaborn as sns\n",
    "sns.set_context('poster')\n",
    "sns.set_style('whitegrid')\n",
    "\n",
    "subject_ids = [13044, 13046, 13054, 13058, 13060, 13061, 13072, 13074, 13077, 15052]\n",
    "\n",
    "def cmap_hist(data, bins=None, cmap=plt.cm.hot, vmin=None, vmax=None):\n",
    "    n, bins, patches = plt.hist(data, bins=bins)\n",
    "    bin_centers = 0.5 * (bins[:-1] + bins[1:])\n",
    "    \n",
    "    if vmin is None:\n",
    "        vmin = data.min()\n",
    "    if vmax is None:\n",
    "        vmax = data.max()\n",
    "\n",
    "    # scale values to interval [0,1]\n",
    "    col = (bin_centers - vmin) / vmax\n",
    "\n",
    "    for c, p in zip(col, patches):\n",
    "        plt.setp(p, 'facecolor', cmap(c))\n",
    "\n",
    "\n",
    "for subject_id in subject_ids[:]:\n",
    "    for fwhm in [0.15, 0.3]:\n",
    "        dataset = StainDataset(subject_id, fwhm=fwhm)\n",
    "        dataset.get_vminmax((0, 99))\n",
    "\n",
    "        d = '/home/mkeuken1/data/post_mortem/visualize_stains_v1/%s/' % (subject_id)\n",
    "        if not os.path.exists(d):\n",
    "            os.makedirs(d) \n",
    "\n",
    "        fn = os.path.join(d, 'stains_%s.pdf' % fwhm)\n",
    "        pdf = PdfPages(fn)\n",
    "\n",
    "        for i, stain in enumerate(dataset.stains):\n",
    "            print 'Plotting %s' % stain\n",
    "            plt.figure()\n",
    "            data = dataset.smoothed_data.value[dataset.thresholded_mask, i]\n",
    "            data = data[~np.isnan(data)]\n",
    "            bins = np.linspace(0, dataset.vmax[i], 100)\n",
    "            cmap_hist(data, bins, plt.cm.hot, vmin=dataset.vmin[i], vmax=dataset.vmax[i])\n",
    "            plt.title(stain)\n",
    "            plt.savefig(pdf, format='pdf')\n",
    "\n",
    "            plt.close(plt.gcf())\n",
    "\n",
    "            plt.figure()\n",
    "\n",
    "            if not os.path.exists(d):\n",
    "                os.makedirs(d)\n",
    "\n",
    "            for i, orientation in enumerate(['coronal', 'axial', 'sagittal']):\n",
    "                for j, q in enumerate([.25, .5, .75]):\n",
    "                    ax = plt.subplot(3, 3, i + j*3 + 1)\n",
    "                    slice = dataset.get_proportional_slice(q, orientation)\n",
    "                    dataset.plot_slice(slice=slice, stain=stain, orientation=orientation, cmap=plt.cm.hot)\n",
    "                    ax.set_anchor('NW')\n",
    "\n",
    "                    \n",
    "            plt.gcf().set_size_inches(20, 20)\n",
    "            plt.suptitle(stain)\n",
    "            plt.savefig(pdf, format='pdf')\n",
    "            plt.close(plt.gcf())\n",
    "        \n",
    "        plt.figure()\n",
    "        print 'Plotting correlation matrix'\n",
    "        sns.heatmap(np.round(dataset.smoothed_dataframe.corr(), 2), annot=True)\n",
    "        plt.savefig(pdf, format='pdf')\n",
    "        plt.close(plt.gcf())\n",
    "\n",
    "        pdf.close()"
   ]
  },
  {
   "cell_type": "code",
   "execution_count": null,
   "metadata": {
    "collapsed": false
   },
   "outputs": [],
   "source": [
    "\n",
    "\n"
   ]
  },
  {
   "cell_type": "code",
   "execution_count": 53,
   "metadata": {
    "collapsed": false
   },
   "outputs": [
    {
     "name": "stdout",
     "output_type": "stream",
     "text": [
      "/home/mkeuken1/data/post_mortem/new_data_format/13044/images.hdf5\n"
     ]
    }
   ],
   "source": [
    "from scipy import stats\n",
    "import pandas\n",
    "from pystain import StainDataset\n",
    "\n",
    "subject_ids_pd = [13044, 13046, 13054, 13058, 13060, 13061, 13072, 13074, 13077, 15052]\n",
    "subject_ids_hc = [13095, 14037, 14051, 14069, 15033, 15035, 15055]\n",
    "\n",
    "subject_id = 13044\n",
    "#for subject_id in subject_ids_pd[:]:\n",
    "\n",
    "ds = StainDataset(subject_id, fwhm=0.3)\n",
    "    \n",
    "   # tmp = df.pivot_table(index=['pc1_3', 'pc2_3', 'slice_3'], values=ds.stains, aggfunc='mean').copy()\n",
    "   # tmp['subject_id'] = subject_id\n",
    "    \n",
    "   # results.append(tmp.copy())\n",
    "\n",
    "#df = pandas.concat(results).reset_index().set_index(['subject_id', 'slice_3', 'pc1_3', 'pc2_3'])\n",
    "#df = pandas.melt(df.reset_index(), id_vars=['subject_id', 'slice_3', 'pc1_3', 'pc2_3'], var_name='stain')"
   ]
  },
  {
   "cell_type": "code",
   "execution_count": 63,
   "metadata": {
    "collapsed": false
   },
   "outputs": [
    {
     "name": "stdout",
     "output_type": "stream",
     "text": [
      "['CALR', 'FER', 'GABRA3', 'GAD6567', 'MBP', 'PARV', 'SERT', 'SMI32', 'SYN', 'TH', 'TRANSF', 'VGLUT1']\n"
     ]
    },
    {
     "name": "stderr",
     "output_type": "stream",
     "text": [
      "/opt/anaconda/anaconda2/lib/python2.7/site-packages/ipykernel_launcher.py:3: VisibleDeprecationWarning: boolean index did not match indexed array along dimension 0; dimension is 29 but corresponding boolean dimension is 26\n",
      "  This is separate from the ipykernel package so we can avoid doing imports until\n"
     ]
    }
   ],
   "source": [
    "print(ds.stains)\n",
    "for i, stain in enumerate(ds.stains):\n",
    "    data = ds.smoothed_data.value[dataset.thresholded_mask, i]\n",
    "    data = data[~np.isnan(data)]\n",
    "    data = data.mean()\n",
    "    data"
   ]
  },
  {
   "cell_type": "code",
   "execution_count": 62,
   "metadata": {
    "collapsed": false
   },
   "outputs": [
    {
     "data": {
      "text/plain": [
       "55.458545977484228"
      ]
     },
     "execution_count": 62,
     "metadata": {},
     "output_type": "execute_result"
    }
   ],
   "source": [
    "data"
   ]
  },
  {
   "cell_type": "code",
   "execution_count": 60,
   "metadata": {
    "collapsed": false
   },
   "outputs": [
    {
     "data": {
      "text/plain": [
       "<function view>"
      ]
     },
     "execution_count": 60,
     "metadata": {},
     "output_type": "execute_result"
    }
   ],
   "source": [
    "data\n"
   ]
  },
  {
   "cell_type": "code",
   "execution_count": null,
   "metadata": {
    "collapsed": true
   },
   "outputs": [],
   "source": []
  }
 ],
 "metadata": {
  "kernelspec": {
   "display_name": "Python 2",
   "language": "python",
   "name": "python2"
  },
  "language_info": {
   "codemirror_mode": {
    "name": "ipython",
    "version": 2
   },
   "file_extension": ".py",
   "mimetype": "text/x-python",
   "name": "python",
   "nbconvert_exporter": "python",
   "pygments_lexer": "ipython2",
   "version": "2.7.13"
  }
 },
 "nbformat": 4,
 "nbformat_minor": 2
}
